{
 "cells": [
  {
   "cell_type": "code",
   "execution_count": 2,
   "metadata": {
    "ExecuteTime": {
     "end_time": "2021-05-06T15:00:35.042174Z",
     "start_time": "2021-05-06T15:00:33.859718Z"
    }
   },
   "outputs": [],
   "source": [
    "import torch\n",
    "import torch.nn as nn\n",
    "import torchvision.datasets as dset\n",
    "import torchvision.transforms as transforms\n",
    "from torch.utils.data import DataLoader\n",
    "from torch.autograd import Variable\n",
    "import matplotlib.pyplot as plt\n",
    "%matplotlib inline"
   ]
  },
  {
   "cell_type": "code",
   "execution_count": 5,
   "metadata": {
    "ExecuteTime": {
     "end_time": "2021-05-06T15:00:46.343531Z",
     "start_time": "2021-05-06T15:00:46.290062Z"
    }
   },
   "outputs": [],
   "source": [
    "mnist_train = dset.MNIST(\"\",train=True,transform = transforms.ToTensor(),\n",
    "                        target_transform=None,download=False)\n",
    "mnist_test = dset.MNIST(\"\",train=False,transform = transforms.ToTensor(),\n",
    "                        target_transform=None,download=False)"
   ]
  },
  {
   "cell_type": "code",
   "execution_count": 6,
   "metadata": {
    "ExecuteTime": {
     "end_time": "2021-05-06T15:00:47.355921Z",
     "start_time": "2021-05-06T15:00:47.193447Z"
    }
   },
   "outputs": [
    {
     "name": "stdout",
     "output_type": "stream",
     "text": [
      "mnist_train 길이 60000\n",
      "mnist_test 길이 10000\n",
      "image data 형태: torch.Size([1, 28, 28])\n",
      "label: 5\n"
     ]
    },
    {
     "data": {
      "image/png": "[encoded data removed]",
      "text/plain": [
       "<Figure size 432x288 with 1 Axes>"
      ]
     },
     "metadata": {
      "needs_background": "light"
     },
     "output_type": "display_data"
    }
   ],
   "source": [
    "print('mnist_train 길이',len(mnist_train))\n",
    "print('mnist_test 길이',len(mnist_test))\n",
    "\n",
    "image, label = mnist_train.__getitem__(0)\n",
    "print('image data 형태:',image.size())\n",
    "print('label:',label)\n",
    "\n",
    "img = image.numpy()\n",
    "plt.title('label: %d'%label)\n",
    "plt.imshow(img[0],cmap='gray')\n",
    "plt.show()"
   ]
  },
  {
   "cell_type": "code",
   "execution_count": 7,
   "metadata": {
    "ExecuteTime": {
     "end_time": "2021-05-06T15:00:49.176271Z",
     "start_time": "2021-05-06T15:00:48.728406Z"
    }
   },
   "outputs": [
    {
     "name": "stdout",
     "output_type": "stream",
     "text": [
      "5\n",
      "torch.Size([1, 28, 28])\n",
      "5\n"
     ]
    },
    {
     "data": {
      "image/png": "[encoded data removed]",
      "text/plain": [
       "<Figure size 432x288 with 1 Axes>"
      ]
     },
     "metadata": {
      "needs_background": "light"
     },
     "output_type": "display_data"
    },
    {
     "name": "stdout",
     "output_type": "stream",
     "text": [
      "0\n"
     ]
    },
    {
     "data": {
      "image/png": "[encoded data removed]",
      "text/plain": [
       "<Figure size 432x288 with 1 Axes>"
      ]
     },
     "metadata": {
      "needs_background": "light"
     },
     "output_type": "display_data"
    },
    {
     "name": "stdout",
     "output_type": "stream",
     "text": [
      "4\n"
     ]
    },
    {
     "data": {
      "image/png": "[encoded data removed]",
      "text/plain": [
       "<Figure size 432x288 with 1 Axes>"
      ]
     },
     "metadata": {
      "needs_background": "light"
     },
     "output_type": "display_data"
    }
   ],
   "source": [
    "print(mnist_train[0][1])\n",
    "print(mnist_train[0][0].size())\n",
    "\n",
    "for i in range(3):\n",
    "    img=mnist_train[i][0].numpy()\n",
    "    print(mnist_train[i][1])\n",
    "    plt.imshow(img[0],cmap='gray')\n",
    "    plt.show()"
   ]
  },
  {
   "cell_type": "code",
   "execution_count": null,
   "metadata": {
    "ExecuteTime": {
     "end_time": "2021-05-06T15:00:50.574456Z",
     "start_time": "2021-05-06T15:00:50.557130Z"
    }
   },
   "outputs": [],
   "source": []
  },
  {
   "cell_type": "code",
   "execution_count": 9,
   "metadata": {
    "ExecuteTime": {
     "end_time": "2021-05-06T15:00:52.846236Z",
     "start_time": "2021-05-06T15:00:52.842582Z"
    }
   },
   "outputs": [],
   "source": [
    "import numpy as np\n",
    "import torch.optim as optim\n",
    "\n",
    "batch_size=16\n",
    "learning_rate = 0.0002\n",
    "num_epoch = 10"
   ]
  },
  {
   "cell_type": "code",
   "execution_count": 10,
   "metadata": {
    "ExecuteTime": {
     "end_time": "2021-05-06T15:00:59.185312Z",
     "start_time": "2021-05-06T15:00:54.375631Z"
    }
   },
   "outputs": [],
   "source": [
    "train_loader = torch.utils.data.DataLoader(list(mnist_train)[:batch_size*100],batch_size=batch_size,\n",
    "                                                            shuffle=True,num_workers=2,\n",
    "                                                            drop_last=True)\n",
    "\n",
    "test_loader = torch.utils.data.DataLoader((mnist_test),batch_size=batch_size,\n",
    "                                                            shuffle=False,num_workers=2,\n",
    "                                                            drop_last=True)"
   ]
  },
  {
   "cell_type": "code",
   "execution_count": 11,
   "metadata": {
    "ExecuteTime": {
     "end_time": "2021-05-06T15:00:59.241510Z",
     "start_time": "2021-05-06T15:00:59.229976Z"
    }
   },
   "outputs": [],
   "source": [
    "class CNN(nn.Module):\n",
    "    def __init__(self):\n",
    "        super(CNN, self).__init__()\n",
    "        self.layer = nn.Sequential(\n",
    "            nn.Conv2d(1,16,5,padding=2),\n",
    "            nn.ReLU(),\n",
    "            \n",
    "            nn.Conv2d(16,32,5,padding=2),\n",
    "            nn.ReLU(),\n",
    "            nn.MaxPool2d(2,2),\n",
    "            \n",
    "            nn.Conv2d(32,64,5,padding=2),\n",
    "            nn.ReLU(),\n",
    "            nn.MaxPool2d(2,2)\n",
    "        )\n",
    "        self.fc_layer=nn.Sequential(\n",
    "            nn.Linear(64*7*7,100),\n",
    "            nn.ReLU(),\n",
    "            nn.Linear(100,10)\n",
    "        )\n",
    "        \n",
    "    def forward(self,x):\n",
    "        \n",
    "        out = self.layer(x)\n",
    "        out = out.view(batch_size,-1)\n",
    "        out=self.fc_layer(out)\n",
    "        return out\n",
    "    \n",
    "model = CNN()"
   ]
  },
  {
   "cell_type": "code",
   "execution_count": 12,
   "metadata": {
    "ExecuteTime": {
     "end_time": "2021-05-06T15:00:59.295523Z",
     "start_time": "2021-05-06T15:00:59.290615Z"
    }
   },
   "outputs": [
    {
     "name": "stdout",
     "output_type": "stream",
     "text": [
      "torch.Size([16, 1, 5, 5])\n",
      "torch.Size([16])\n",
      "torch.Size([32, 16, 5, 5])\n",
      "torch.Size([32])\n",
      "torch.Size([64, 32, 5, 5])\n",
      "torch.Size([64])\n",
      "torch.Size([100, 3136])\n",
      "torch.Size([100])\n",
      "torch.Size([10, 100])\n",
      "torch.Size([10])\n"
     ]
    }
   ],
   "source": [
    "for parameter in model.parameters():\n",
    "    print(parameter.shape)"
   ]
  },
  {
   "cell_type": "code",
   "execution_count": 13,
   "metadata": {
    "ExecuteTime": {
     "end_time": "2021-05-06T15:00:59.364053Z",
     "start_time": "2021-05-06T15:00:59.360506Z"
    }
   },
   "outputs": [],
   "source": [
    "loss_func = nn.CrossEntropyLoss()\n",
    "optimizer = torch.optim.Adam(model.parameters(),lr=learning_rate)"
   ]
  },
  {
   "cell_type": "code",
   "execution_count": 14,
   "metadata": {
    "ExecuteTime": {
     "end_time": "2021-05-06T15:01:56.234242Z",
     "start_time": "2021-05-06T15:01:00.537176Z"
    }
   },
   "outputs": [
    {
     "name": "stdout",
     "output_type": "stream",
     "text": [
      "tensor(2.3077, grad_fn=<NllLossBackward>) 0 0\n",
      "tensor(2.0839, grad_fn=<NllLossBackward>) 50 0\n",
      "tensor(0.6382, grad_fn=<NllLossBackward>) 0 1\n",
      "tensor(1.0215, grad_fn=<NllLossBackward>) 50 1\n",
      "tensor(0.2356, grad_fn=<NllLossBackward>) 0 2\n",
      "tensor(0.4587, grad_fn=<NllLossBackward>) 50 2\n",
      "tensor(0.2214, grad_fn=<NllLossBackward>) 0 3\n",
      "tensor(0.2973, grad_fn=<NllLossBackward>) 50 3\n",
      "tensor(0.1543, grad_fn=<NllLossBackward>) 0 4\n",
      "tensor(0.0503, grad_fn=<NllLossBackward>) 50 4\n",
      "tensor(0.4231, grad_fn=<NllLossBackward>) 0 5\n",
      "tensor(0.0447, grad_fn=<NllLossBackward>) 50 5\n",
      "tensor(0.0361, grad_fn=<NllLossBackward>) 0 6\n",
      "tensor(0.3953, grad_fn=<NllLossBackward>) 50 6\n",
      "tensor(0.0589, grad_fn=<NllLossBackward>) 0 7\n",
      "tensor(0.0216, grad_fn=<NllLossBackward>) 50 7\n",
      "tensor(0.0941, grad_fn=<NllLossBackward>) 0 8\n",
      "tensor(0.0392, grad_fn=<NllLossBackward>) 50 8\n",
      "tensor(0.0223, grad_fn=<NllLossBackward>) 0 9\n",
      "tensor(0.0231, grad_fn=<NllLossBackward>) 50 9\n"
     ]
    }
   ],
   "source": [
    "for i in range(num_epoch):\n",
    "    for j, [image, label] in enumerate(train_loader):\n",
    "        x = Variable(image)\n",
    "        y_ = Variable(label)\n",
    "        \n",
    "        optimizer.zero_grad()\n",
    "        output=model.forward(x)\n",
    "        loss = loss_func(output, y_)\n",
    "        loss.backward()\n",
    "        optimizer.step()\n",
    "        \n",
    "        if j%50==0:\n",
    "            print(loss,j,i)\n",
    "            "
   ]
  },
  {
   "cell_type": "code",
   "execution_count": 17,
   "metadata": {
    "ExecuteTime": {
     "end_time": "2021-05-06T15:03:24.448468Z",
     "start_time": "2021-05-06T15:03:24.437451Z"
    }
   },
   "outputs": [],
   "source": [
    "torch.save(model,'./nets/mycnn_model_%d.pkl'%(num_epoch))"
   ]
  },
  {
   "cell_type": "code",
   "execution_count": 18,
   "metadata": {
    "ExecuteTime": {
     "end_time": "2021-05-06T15:03:41.723832Z",
     "start_time": "2021-05-06T15:03:41.718111Z"
    }
   },
   "outputs": [
    {
     "name": "stdout",
     "output_type": "stream",
     "text": [
      "model restored\n"
     ]
    }
   ],
   "source": [
    "try:\n",
    "    model=torch.load('nets/mycnn_model_10.pkl')\n",
    "    print('model restored')\n",
    "except:\n",
    "    print('model not restored')"
   ]
  }
 ],
 "metadata": {
  "kernelspec": {
   "display_name": "Python 3",
   "language": "python",
   "name": "python3"
  },
  "language_info": {
   "codemirror_mode": {
    "name": "ipython",
    "version": 3
   },
   "file_extension": ".py",
   "mimetype": "text/x-python",
   "name": "python",
   "nbconvert_exporter": "python",
   "pygments_lexer": "ipython3",
   "version": "3.8.3"
  },
  "toc": {
   "base_numbering": 1,
   "nav_menu": {},
   "number_sections": true,
   "sideBar": true,
   "skip_h1_title": false,
   "title_cell": "Table of Contents",
   "title_sidebar": "Contents",
   "toc_cell": false,
   "toc_position": {},
   "toc_section_display": true,
   "toc_window_display": false
  },
  "varInspector": {
   "cols": {
    "lenName": 16,
    "lenType": 16,
    "lenVar": 40
   },
   "kernels_config": {
    "python": {
     "delete_cmd_postfix": "",
     "delete_cmd_prefix": "del ",
     "library": "var_list.py",
     "varRefreshCmd": "print(var_dic_list())"
    },
    "r": {
     "delete_cmd_postfix": ") ",
     "delete_cmd_prefix": "rm(",
     "library": "var_list.r",
     "varRefreshCmd": "cat(var_dic_list()) "
    }
   },
   "types_to_exclude": [
    "module",
    "function",
    "builtin_function_or_method",
    "instance",
    "_Feature"
   ],
   "window_display": false
  }
 },
 "nbformat": 4,
 "nbformat_minor": 4
}
